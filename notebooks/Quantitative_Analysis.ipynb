{
 "cells": [
  {
   "cell_type": "markdown",
   "id": "2a21a20d",
   "metadata": {},
   "source": [
    "## importing Libraries"
   ]
  },
  {
   "cell_type": "code",
   "execution_count": 2,
   "id": "fc28035a",
   "metadata": {},
   "outputs": [],
   "source": [
    "import pandas as pd\n",
    "import numpy as np\n",
    "from textblob import TextBlob\n",
    "import matplotlib.pyplot as plt\n",
    "import seaborn as sns\n"
   ]
  },
  {
   "cell_type": "markdown",
   "id": "561d0919",
   "metadata": {},
   "source": [
    "## Import CSV"
   ]
  },
  {
   "cell_type": "code",
   "execution_count": 3,
   "id": "a6e6b056",
   "metadata": {},
   "outputs": [],
   "source": [
    "AAPL = pd.read_csv('/home/samrawit/financial-news-sentiment-analysis/Data/AAPL_historical_data.csv')\n",
    "AMZN = pd.read_csv('/home/samrawit/financial-news-sentiment-analysis/Data/AMZN_historical_data.csv')\n",
    "GOOG = pd.read_csv('/home/samrawit/financial-news-sentiment-analysis/Data/GOOG_historical_data.csv')\n",
    "META = pd.read_csv('/home/samrawit/financial-news-sentiment-analysis/Data/META_historical_data.csv')\n",
    "MSFT = pd.read_csv('/home/samrawit/financial-news-sentiment-analysis/Data/MSFT_historical_data.csv')\n",
    "NVDA = pd.read_csv('/home/samrawit/financial-news-sentiment-analysis/Data/NVDA_historical_data.csv')\n",
    "TSLA = pd.read_csv('/home/samrawit/financial-news-sentiment-analysis/Data/TSLA_historical_data.csv')\n",
    "\n"
   ]
  },
  {
   "cell_type": "markdown",
   "id": "f38cbdb8",
   "metadata": {},
   "source": [
    "## TA-LIB indicators"
   ]
  },
  {
   "cell_type": "code",
   "execution_count": null,
   "id": "280f6dcb",
   "metadata": {},
   "outputs": [],
   "source": [
    "import sys\n",
    "import os\n",
    "sys.path.append(os.path.abspath(\"..\"))\n",
    "from scripts.TA-Lib_Indicator import Technical_Analyser\n",
    "Technical_Analyser(AAPL)"
   ]
  },
  {
   "cell_type": "code",
   "execution_count": null,
   "id": "9f12718b",
   "metadata": {},
   "outputs": [],
   "source": [
    "Technical_Analyser(AMZN)"
   ]
  },
  {
   "cell_type": "code",
   "execution_count": null,
   "id": "0a998c58",
   "metadata": {},
   "outputs": [],
   "source": [
    "Technical_Analyser(GOOG)"
   ]
  },
  {
   "cell_type": "code",
   "execution_count": null,
   "id": "65b875f6",
   "metadata": {},
   "outputs": [],
   "source": [
    "Technical_Analyser(META)"
   ]
  },
  {
   "cell_type": "code",
   "execution_count": null,
   "id": "088c3827",
   "metadata": {},
   "outputs": [],
   "source": [
    "Technical_Analyser(MSFT)"
   ]
  },
  {
   "cell_type": "code",
   "execution_count": null,
   "id": "194d3941",
   "metadata": {},
   "outputs": [],
   "source": [
    "Technical_Analyser(NVDA)"
   ]
  },
  {
   "cell_type": "code",
   "execution_count": null,
   "id": "5e705186",
   "metadata": {},
   "outputs": [],
   "source": [
    "Technical_Analyser(TSLA)"
   ]
  },
  {
   "cell_type": "markdown",
   "id": "e29ac09d",
   "metadata": {},
   "source": [
    "## Use PyNance for Financial Metrics"
   ]
  },
  {
   "cell_type": "markdown",
   "id": "7bb0a4d7",
   "metadata": {},
   "source": [
    "Import the functions to implement modularity "
   ]
  },
  {
   "cell_type": "code",
   "execution_count": null,
   "id": "3992212a",
   "metadata": {},
   "outputs": [],
   "source": [
    "from scripts.PyNance import Financial_Met\n",
    "from scripts.Visualizer import visualize"
   ]
  },
  {
   "cell_type": "code",
   "execution_count": null,
   "id": "b60affda",
   "metadata": {},
   "outputs": [],
   "source": [
    "Financial_Met('AAPL')\n",
    "visualize(AAPL)"
   ]
  },
  {
   "cell_type": "code",
   "execution_count": null,
   "id": "4534a7fc",
   "metadata": {},
   "outputs": [],
   "source": [
    "Financial_Met('AAPL')\n",
    "visualize(AAPL)"
   ]
  },
  {
   "cell_type": "code",
   "execution_count": null,
   "id": "aa86469b",
   "metadata": {},
   "outputs": [],
   "source": [
    "Financial_Met('AAPL')\n",
    "visualize(AAPL)"
   ]
  }
 ],
 "metadata": {
  "kernelspec": {
   "display_name": "venv",
   "language": "python",
   "name": "python3"
  },
  "language_info": {
   "codemirror_mode": {
    "name": "ipython",
    "version": 3
   },
   "file_extension": ".py",
   "mimetype": "text/x-python",
   "name": "python",
   "nbconvert_exporter": "python",
   "pygments_lexer": "ipython3",
   "version": "3.12.7"
  }
 },
 "nbformat": 4,
 "nbformat_minor": 5
}
